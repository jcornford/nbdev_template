{
 "cells": [
  {
   "cell_type": "code",
   "execution_count": null,
   "metadata": {},
   "outputs": [],
   "source": [
    "#hide\n",
    "from your_lib.core import *"
   ]
  },
  {
   "cell_type": "markdown",
   "metadata": {},
   "source": [
    "# Project name here\n",
    "\n",
    "> Summary description here."
   ]
  },
  {
   "cell_type": "markdown",
   "metadata": {},
   "source": [
    "*Do not edit README.md, edit nbs/index.ipynb and run nbdev_build_docs as this becomes the readme file*"
   ]
  },
  {
   "cell_type": "markdown",
   "metadata": {},
   "source": [
    "## Start guide\n",
    "The repo is built based on nbdev template https://github.com/fastai/nbdev with some modifications. Follow these instructions to get set up:\n",
    "\n",
    "### 1. Set up virtualenv\n",
    "\n",
    "Currently I'm assuming this repo will be worked on in combination with the MILA server, so I've made a requirements file for a virtual env to be combined with the loadable modules on the server for a general ML env (can add to the env as needed). \n",
    "\n",
    "The command/combination to load modules that work at the moment is\n",
    "```\n",
    "$ module load python/3.7 cuda/10.1 cuda/10.1/cudnn/7.6 python/3.7/cuda/10.1/cudnn/7.6/pytorch/1.5.0\n",
    "```\n",
    "Note you may need to \"module unload anaconda\" first. Also, I was having problems with certain nodes and cuda versions, hence why not I'm not using default \"module load pytorch\". \n",
    "\n",
    "Next is to set up the virtual env. Create the env by running the following in the project root (where the requirements.txt file is)\n",
    "```\n",
    "$ virtualenv env\n",
    "$ source env/bin/activate\n",
    "$ pip install -r requirements.txt\n",
    "```\n",
    "The folder env already exists and contains a gitignore file preventing contents from being tracked by git. Rename the folder or copy the file if you want a different env name. \n",
    "\n",
    "From then on just activate the env, e.g:\n",
    "\n",
    "```\n",
    "$ source env/bin/activate\n",
    "```\n",
    "\n",
    "### 2. Set up nbdev\n",
    "\n",
    "For more detail check out the offical tutorials e.g https://nbdev.fast.ai/tutorial/. The no.1 thing is to run\n",
    "\n",
    "```\n",
    "$ nbdev_install_git_hooks\n",
    "```\n",
    "in the environment. Not sure if you need to do this within the repo but I did... You should get a some confirmation message. This will set up git hooks which will remove metadata from your notebooks when you commit, greatly reducing the chance of a conflict. \n",
    "\n",
    "If there is a conflict later, run **nbdev_fix_merge filename.ipynb**. This replaces any conflicts in cell outputs with your version, and if there are conflicts in input cells, then both cells will be included in the merged file, along with standard conflict markers (e.g. =====). Then you can open the notebook in Jupyter and choose which version to keep.\n",
    "\n",
    "### 3. Set up MILA jupyterhub\n",
    "\n",
    "We just need to get jupyterhub to place nicely with the virtualenv environment.\n",
    "\n",
    "1. Make sure to load the modules by clicking the blue hexagon on the right of the jupyterhub page. Load the same modules as the above, and can save this selection with the floppy disk symbol for faster loading next time.\n",
    "\n",
    "2. Install a kernel for the notebooks. If using the requirements.txt file, the enviroment should already have ipykernel installed, if not \"pip install ipykernel\". Then \"ipython kernel install --user --name=kaggle_kernel\". Run these with the environment activated"
   ]
  },
  {
   "cell_type": "markdown",
   "metadata": {},
   "source": [
    "## General \n",
    "\n",
    "- Data folder and results also contain a gitignore so can be used for storage without worrying about files in them being committed. \n"
   ]
  },
  {
   "cell_type": "markdown",
   "metadata": {},
   "source": [
    "## Nbdev functionality\n",
    "\n",
    "### How to structure notebooks \n",
    "- TO ADD\n",
    "- Basically for now same as the code for the ei project, just an export at the top of the files. \n",
    "- Added a basic \"example notebook\" that can be looked at / added to for functionality. \n",
    "\n",
    "\n",
    "### Command line functions\n",
    "\n",
    "https://nbdev.fast.ai/cli/\n",
    "\n",
    "`nbdev` comes with the following commands. To use any of them, you must be in one of the subfolders of your project: they will search for the `settings.ini` recursively in the parent directory but need to access it to be able to work. Their names all begin with nbdev so you can easily get a list with tab completion.\n",
    "- `nbdev_build_docs` builds the documentation from the notebooks\n",
    "- `nbdev_build_lib` This exports the code in the notebooks to \"library\" files. For this repo that is the folder name ariamis.\n",
    "- `nbdev_bump_version` increments version in `settings.py` by one\n",
    "- `nbdev_clean_nbs` removes all superfluous metadata form the notebooks, to avoid merge conflicts\n",
    "- `nbdev_detach` exports cell attachments to `dest` and updates references\n",
    "- `nbdev_diff_nbs` gives you the diff between the notebooks and the exported library\n",
    "- `nbdev_fix_merge` will fix merge conflicts in a notebook file\n",
    "- `nbdev_install_git_hooks` installs the git hooks that use the last two command automatically on each commit/merge\n",
    "- `nbdev_nb2md` converts a notebook to a markdown file\n",
    "- `nbdev_new` creates a new nbdev project\n",
    "- `nbdev_read_nbs` reads all notebooks to make sure none are broken\n",
    "- `nbdev_test_nbs` runs tests in notebooks\n",
    "- `nbdev_trust_nbs` trusts all notebooks (so that the HTML content is shown)\n",
    "- `nbdev_update_lib` propagates any change in the library back to the notebooks\n",
    "- `nbdev_upgrade` updates an existing nbdev project to use the latest features\n",
    "\n",
    "### Important ones:\n",
    "- nbdev_build_lib\n",
    "- nbdev_update_lib\n",
    "- nbdev_build_docs\n",
    "\n",
    "### How to view docs locally\n",
    "If you want to look at your docs locally before you push to Github, you can do so by running a jekyll server. First, install Jekyll by following these steps. Then, install the modules needed for serving nbdev docs by cding to the docs directory, and typing bundle install. Finally, cd back to your repo root and type make docs_serve. This will launch a server on port 4000 (by default) which you can connect to with your browser to view your docs.\n",
    "\n",
    "If Github pages fails to build your docs, running locally with Jekyll is the easiest way to find out what the problem is.\n",
    "\n",
    "https://jekyllrb.com/docs/installation/ubuntu/ \n",
    "\n",
    "(improve these instructions)"
   ]
  },
  {
   "cell_type": "code",
   "execution_count": null,
   "metadata": {},
   "outputs": [],
   "source": []
  }
 ],
 "metadata": {
  "kernelspec": {
   "display_name": "Python 3",
   "language": "python",
   "name": "python3"
  },
  "language_info": {
   "codemirror_mode": {
    "name": "ipython",
    "version": 3
   },
   "file_extension": ".py",
   "mimetype": "text/x-python",
   "name": "python",
   "nbconvert_exporter": "python",
   "pygments_lexer": "ipython3",
   "version": "3.7.4"
  }
 },
 "nbformat": 4,
 "nbformat_minor": 4
}
